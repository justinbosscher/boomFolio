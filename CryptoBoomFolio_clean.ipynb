{
 "cells": [
  {
   "cell_type": "markdown",
   "metadata": {},
   "source": [
    "# CryptoBoomFolio_clean"
   ]
  },
  {
   "cell_type": "code",
   "execution_count": 1,
   "metadata": {},
   "outputs": [
    {
     "data": {
      "text/html": [
       "<script>requirejs.config({paths: { 'plotly': ['https://cdn.plot.ly/plotly-latest.min']},});if(!window.Plotly) {{require(['plotly'],function(plotly) {window.Plotly=plotly;});}}</script>"
      ],
      "text/vnd.plotly.v1+html": [
       "<script>requirejs.config({paths: { 'plotly': ['https://cdn.plot.ly/plotly-latest.min']},});if(!window.Plotly) {{require(['plotly'],function(plotly) {window.Plotly=plotly;});}}</script>"
      ]
     },
     "metadata": {},
     "output_type": "display_data"
    }
   ],
   "source": [
    "import os\n",
    "import pandas as pd\n",
    "import plotly.offline as py\n",
    "import plotly.graph_objs as go\n",
    "py.init_notebook_mode(connected=True)"
   ]
  },
  {
   "cell_type": "markdown",
   "metadata": {},
   "source": [
    "### Set Up Workspace"
   ]
  },
  {
   "cell_type": "code",
   "execution_count": 5,
   "metadata": {},
   "outputs": [
    {
     "data": {
      "text/plain": [
       "'/home/optimus/Documents/Dev/Cryptocurrency/boomFolio'"
      ]
     },
     "execution_count": 5,
     "metadata": {},
     "output_type": "execute_result"
    }
   ],
   "source": [
    "# change working directory\n",
    "os.chdir('/home/optimus/Documents/Dev/Cryptocurrency/boomFolio')\n",
    "os.getcwd()"
   ]
  },
  {
   "cell_type": "markdown",
   "metadata": {},
   "source": [
    "### Import Data\n",
    "\n",
    "#### 9/28/2018: Market data isn't loading. Did coinmarketcap.com change the api call ??"
   ]
  },
  {
   "cell_type": "code",
   "execution_count": 6,
   "metadata": {},
   "outputs": [
    {
     "data": {
      "text/html": [
       "<div>\n",
       "<style scoped>\n",
       "    .dataframe tbody tr th:only-of-type {\n",
       "        vertical-align: middle;\n",
       "    }\n",
       "\n",
       "    .dataframe tbody tr th {\n",
       "        vertical-align: top;\n",
       "    }\n",
       "\n",
       "    .dataframe thead th {\n",
       "        text-align: right;\n",
       "    }\n",
       "</style>\n",
       "<table border=\"1\" class=\"dataframe\">\n",
       "  <thead>\n",
       "    <tr style=\"text-align: right;\">\n",
       "      <th></th>\n",
       "      <th>24h_volume_usd</th>\n",
       "      <th>available_supply</th>\n",
       "      <th>id</th>\n",
       "      <th>last_updated</th>\n",
       "      <th>market_cap_usd</th>\n",
       "      <th>max_supply</th>\n",
       "      <th>name</th>\n",
       "      <th>percent_change_1h</th>\n",
       "      <th>percent_change_24h</th>\n",
       "      <th>percent_change_7d</th>\n",
       "      <th>price_btc</th>\n",
       "      <th>price_usd</th>\n",
       "      <th>rank</th>\n",
       "      <th>symbol</th>\n",
       "      <th>total_supply</th>\n",
       "    </tr>\n",
       "  </thead>\n",
       "  <tbody>\n",
       "    <tr>\n",
       "      <th>0</th>\n",
       "      <td>8.330692e+09</td>\n",
       "      <td>17386250</td>\n",
       "      <td>bitcoin</td>\n",
       "      <td>1542763152</td>\n",
       "      <td>76100785323</td>\n",
       "      <td>2.100000e+07</td>\n",
       "      <td>Bitcoin</td>\n",
       "      <td>-1.44</td>\n",
       "      <td>-10.61</td>\n",
       "      <td>-31.11</td>\n",
       "      <td>1.000000</td>\n",
       "      <td>4377.067241</td>\n",
       "      <td>1</td>\n",
       "      <td>BTC</td>\n",
       "      <td>17386250</td>\n",
       "    </tr>\n",
       "    <tr>\n",
       "      <th>1</th>\n",
       "      <td>1.505099e+09</td>\n",
       "      <td>40327341704</td>\n",
       "      <td>ripple</td>\n",
       "      <td>1542763205</td>\n",
       "      <td>16786201360</td>\n",
       "      <td>1.000000e+11</td>\n",
       "      <td>XRP</td>\n",
       "      <td>-3.75</td>\n",
       "      <td>-14.57</td>\n",
       "      <td>-18.22</td>\n",
       "      <td>0.000096</td>\n",
       "      <td>0.416249</td>\n",
       "      <td>2</td>\n",
       "      <td>XRP</td>\n",
       "      <td>99991780039</td>\n",
       "    </tr>\n",
       "    <tr>\n",
       "      <th>2</th>\n",
       "      <td>3.114615e+09</td>\n",
       "      <td>103326368</td>\n",
       "      <td>ethereum</td>\n",
       "      <td>1542763178</td>\n",
       "      <td>13116822114</td>\n",
       "      <td>NaN</td>\n",
       "      <td>Ethereum</td>\n",
       "      <td>-2.58</td>\n",
       "      <td>-14.92</td>\n",
       "      <td>-38.54</td>\n",
       "      <td>0.029113</td>\n",
       "      <td>126.945545</td>\n",
       "      <td>3</td>\n",
       "      <td>ETH</td>\n",
       "      <td>103326368</td>\n",
       "    </tr>\n",
       "    <tr>\n",
       "      <th>3</th>\n",
       "      <td>1.445400e+08</td>\n",
       "      <td>17469025</td>\n",
       "      <td>bitcoin-cash</td>\n",
       "      <td>1542763168</td>\n",
       "      <td>3892551535</td>\n",
       "      <td>2.100000e+07</td>\n",
       "      <td>Bitcoin Cash</td>\n",
       "      <td>-2.12</td>\n",
       "      <td>-9.51</td>\n",
       "      <td>-57.10</td>\n",
       "      <td>0.051101</td>\n",
       "      <td>222.825918</td>\n",
       "      <td>4</td>\n",
       "      <td>BCH</td>\n",
       "      <td>17469025</td>\n",
       "    </tr>\n",
       "    <tr>\n",
       "      <th>4</th>\n",
       "      <td>1.514219e+08</td>\n",
       "      <td>19149935895</td>\n",
       "      <td>stellar</td>\n",
       "      <td>1542763167</td>\n",
       "      <td>3603206086</td>\n",
       "      <td>NaN</td>\n",
       "      <td>Stellar</td>\n",
       "      <td>-2.55</td>\n",
       "      <td>-16.81</td>\n",
       "      <td>-26.34</td>\n",
       "      <td>0.000043</td>\n",
       "      <td>0.188158</td>\n",
       "      <td>5</td>\n",
       "      <td>XLM</td>\n",
       "      <td>104483100707</td>\n",
       "    </tr>\n",
       "    <tr>\n",
       "      <th>5</th>\n",
       "      <td>1.305580e+09</td>\n",
       "      <td>906245118</td>\n",
       "      <td>eos</td>\n",
       "      <td>1542763181</td>\n",
       "      <td>3273571433</td>\n",
       "      <td>NaN</td>\n",
       "      <td>EOS</td>\n",
       "      <td>-2.86</td>\n",
       "      <td>-11.89</td>\n",
       "      <td>-30.79</td>\n",
       "      <td>0.000828</td>\n",
       "      <td>3.612236</td>\n",
       "      <td>6</td>\n",
       "      <td>EOS</td>\n",
       "      <td>1006245120</td>\n",
       "    </tr>\n",
       "    <tr>\n",
       "      <th>6</th>\n",
       "      <td>6.050568e+08</td>\n",
       "      <td>59243613</td>\n",
       "      <td>litecoin</td>\n",
       "      <td>1542763202</td>\n",
       "      <td>1897484192</td>\n",
       "      <td>8.400000e+07</td>\n",
       "      <td>Litecoin</td>\n",
       "      <td>-2.79</td>\n",
       "      <td>-13.80</td>\n",
       "      <td>-35.61</td>\n",
       "      <td>0.007352</td>\n",
       "      <td>32.028502</td>\n",
       "      <td>7</td>\n",
       "      <td>LTC</td>\n",
       "      <td>59243613</td>\n",
       "    </tr>\n",
       "    <tr>\n",
       "      <th>7</th>\n",
       "      <td>5.950719e+09</td>\n",
       "      <td>1806421736</td>\n",
       "      <td>tether</td>\n",
       "      <td>1542763186</td>\n",
       "      <td>1778370715</td>\n",
       "      <td>NaN</td>\n",
       "      <td>Tether</td>\n",
       "      <td>0.73</td>\n",
       "      <td>0.34</td>\n",
       "      <td>0.19</td>\n",
       "      <td>0.000226</td>\n",
       "      <td>0.984471</td>\n",
       "      <td>8</td>\n",
       "      <td>USDT</td>\n",
       "      <td>2580109502</td>\n",
       "    </tr>\n",
       "    <tr>\n",
       "      <th>8</th>\n",
       "      <td>6.542825e+07</td>\n",
       "      <td>25927070538</td>\n",
       "      <td>cardano</td>\n",
       "      <td>1542763169</td>\n",
       "      <td>1129097651</td>\n",
       "      <td>4.500000e+10</td>\n",
       "      <td>Cardano</td>\n",
       "      <td>-2.56</td>\n",
       "      <td>-16.72</td>\n",
       "      <td>-40.70</td>\n",
       "      <td>0.000010</td>\n",
       "      <td>0.043549</td>\n",
       "      <td>9</td>\n",
       "      <td>ADA</td>\n",
       "      <td>31112483745</td>\n",
       "    </tr>\n",
       "    <tr>\n",
       "      <th>9</th>\n",
       "      <td>2.944667e+07</td>\n",
       "      <td>16585557</td>\n",
       "      <td>monero</td>\n",
       "      <td>1542763161</td>\n",
       "      <td>1074277636</td>\n",
       "      <td>NaN</td>\n",
       "      <td>Monero</td>\n",
       "      <td>-2.42</td>\n",
       "      <td>-11.50</td>\n",
       "      <td>-37.97</td>\n",
       "      <td>0.014854</td>\n",
       "      <td>64.771874</td>\n",
       "      <td>10</td>\n",
       "      <td>XMR</td>\n",
       "      <td>16585557</td>\n",
       "    </tr>\n",
       "  </tbody>\n",
       "</table>\n",
       "</div>"
      ],
      "text/plain": [
       "   24h_volume_usd  available_supply            id  last_updated  \\\n",
       "0    8.330692e+09          17386250       bitcoin    1542763152   \n",
       "1    1.505099e+09       40327341704        ripple    1542763205   \n",
       "2    3.114615e+09         103326368      ethereum    1542763178   \n",
       "3    1.445400e+08          17469025  bitcoin-cash    1542763168   \n",
       "4    1.514219e+08       19149935895       stellar    1542763167   \n",
       "5    1.305580e+09         906245118           eos    1542763181   \n",
       "6    6.050568e+08          59243613      litecoin    1542763202   \n",
       "7    5.950719e+09        1806421736        tether    1542763186   \n",
       "8    6.542825e+07       25927070538       cardano    1542763169   \n",
       "9    2.944667e+07          16585557        monero    1542763161   \n",
       "\n",
       "   market_cap_usd    max_supply          name  percent_change_1h  \\\n",
       "0     76100785323  2.100000e+07       Bitcoin              -1.44   \n",
       "1     16786201360  1.000000e+11           XRP              -3.75   \n",
       "2     13116822114           NaN      Ethereum              -2.58   \n",
       "3      3892551535  2.100000e+07  Bitcoin Cash              -2.12   \n",
       "4      3603206086           NaN       Stellar              -2.55   \n",
       "5      3273571433           NaN           EOS              -2.86   \n",
       "6      1897484192  8.400000e+07      Litecoin              -2.79   \n",
       "7      1778370715           NaN        Tether               0.73   \n",
       "8      1129097651  4.500000e+10       Cardano              -2.56   \n",
       "9      1074277636           NaN        Monero              -2.42   \n",
       "\n",
       "   percent_change_24h  percent_change_7d  price_btc    price_usd  rank symbol  \\\n",
       "0              -10.61             -31.11   1.000000  4377.067241     1    BTC   \n",
       "1              -14.57             -18.22   0.000096     0.416249     2    XRP   \n",
       "2              -14.92             -38.54   0.029113   126.945545     3    ETH   \n",
       "3               -9.51             -57.10   0.051101   222.825918     4    BCH   \n",
       "4              -16.81             -26.34   0.000043     0.188158     5    XLM   \n",
       "5              -11.89             -30.79   0.000828     3.612236     6    EOS   \n",
       "6              -13.80             -35.61   0.007352    32.028502     7    LTC   \n",
       "7                0.34               0.19   0.000226     0.984471     8   USDT   \n",
       "8              -16.72             -40.70   0.000010     0.043549     9    ADA   \n",
       "9              -11.50             -37.97   0.014854    64.771874    10    XMR   \n",
       "\n",
       "   total_supply  \n",
       "0      17386250  \n",
       "1   99991780039  \n",
       "2     103326368  \n",
       "3      17469025  \n",
       "4  104483100707  \n",
       "5    1006245120  \n",
       "6      59243613  \n",
       "7    2580109502  \n",
       "8   31112483745  \n",
       "9      16585557  "
      ]
     },
     "execution_count": 6,
     "metadata": {},
     "output_type": "execute_result"
    }
   ],
   "source": [
    "#limit = 200  # only load the top 200 currencies\n",
    "cmc_api = 'https://api.coinmarketcap.com/v1/ticker/?limit={}'\n",
    "\n",
    "# load the data using pandas and keep track of the time\n",
    "now = pd.datetime.now()\n",
    "market_data = pd.read_json(cmc_api)\n",
    "market_data.head(10)"
   ]
  },
  {
   "cell_type": "code",
   "execution_count": 7,
   "metadata": {},
   "outputs": [],
   "source": [
    "### positions\n",
    "### enter coins and amounts hedl\n",
    "boomfolio = {\n",
    "    'BTC': 0.00000000,\n",
    "    'ETH': 0.00000000, \n",
    "}"
   ]
  },
  {
   "cell_type": "code",
   "execution_count": 8,
   "metadata": {},
   "outputs": [
    {
     "data": {
      "text/html": [
       "<div>\n",
       "<style scoped>\n",
       "    .dataframe tbody tr th:only-of-type {\n",
       "        vertical-align: middle;\n",
       "    }\n",
       "\n",
       "    .dataframe tbody tr th {\n",
       "        vertical-align: top;\n",
       "    }\n",
       "\n",
       "    .dataframe thead th {\n",
       "        text-align: right;\n",
       "    }\n",
       "</style>\n",
       "<table border=\"1\" class=\"dataframe\">\n",
       "  <thead>\n",
       "    <tr style=\"text-align: right;\">\n",
       "      <th></th>\n",
       "      <th>symbol</th>\n",
       "      <th>amount</th>\n",
       "    </tr>\n",
       "  </thead>\n",
       "  <tbody>\n",
       "    <tr>\n",
       "      <th>0</th>\n",
       "      <td>BTC</td>\n",
       "      <td>0.0</td>\n",
       "    </tr>\n",
       "    <tr>\n",
       "      <th>1</th>\n",
       "      <td>ETH</td>\n",
       "      <td>0.0</td>\n",
       "    </tr>\n",
       "  </tbody>\n",
       "</table>\n",
       "</div>"
      ],
      "text/plain": [
       "  symbol  amount\n",
       "0    BTC     0.0\n",
       "1    ETH     0.0"
      ]
     },
     "execution_count": 8,
     "metadata": {},
     "output_type": "execute_result"
    }
   ],
   "source": [
    "# display boomfolio\n",
    "boomfolio = pd.DataFrame(list(boomfolio.items()), columns=['symbol', 'amount'])\n",
    "boomfolio.head(len(boomfolio))"
   ]
  },
  {
   "cell_type": "code",
   "execution_count": 9,
   "metadata": {},
   "outputs": [],
   "source": [
    "# wish list: ticker : USD amount to invest\n",
    "# to be used for something later\n",
    "wish_boom = {\n",
    "    'DGB' : 00.00,\n",
    "    'ZEN' : 00.00,\n",
    "}"
   ]
  },
  {
   "cell_type": "code",
   "execution_count": 10,
   "metadata": {},
   "outputs": [
    {
     "data": {
      "text/html": [
       "<div>\n",
       "<style scoped>\n",
       "    .dataframe tbody tr th:only-of-type {\n",
       "        vertical-align: middle;\n",
       "    }\n",
       "\n",
       "    .dataframe tbody tr th {\n",
       "        vertical-align: top;\n",
       "    }\n",
       "\n",
       "    .dataframe thead th {\n",
       "        text-align: right;\n",
       "    }\n",
       "</style>\n",
       "<table border=\"1\" class=\"dataframe\">\n",
       "  <thead>\n",
       "    <tr style=\"text-align: right;\">\n",
       "      <th></th>\n",
       "      <th>symbol</th>\n",
       "      <th>amount</th>\n",
       "      <th>24h_volume_usd</th>\n",
       "      <th>available_supply</th>\n",
       "      <th>id</th>\n",
       "      <th>last_updated</th>\n",
       "      <th>market_cap_usd</th>\n",
       "      <th>max_supply</th>\n",
       "      <th>name</th>\n",
       "      <th>percent_change_1h</th>\n",
       "      <th>percent_change_24h</th>\n",
       "      <th>percent_change_7d</th>\n",
       "      <th>price_btc</th>\n",
       "      <th>price_usd</th>\n",
       "      <th>rank</th>\n",
       "      <th>total_supply</th>\n",
       "      <th>value_usd</th>\n",
       "      <th>coinshare</th>\n",
       "    </tr>\n",
       "  </thead>\n",
       "  <tbody>\n",
       "    <tr>\n",
       "      <th>0</th>\n",
       "      <td>BTC</td>\n",
       "      <td>0.0</td>\n",
       "      <td>8.330692e+09</td>\n",
       "      <td>17386250</td>\n",
       "      <td>bitcoin</td>\n",
       "      <td>1542763152</td>\n",
       "      <td>76100785323</td>\n",
       "      <td>21000000.0</td>\n",
       "      <td>Bitcoin</td>\n",
       "      <td>-1.44</td>\n",
       "      <td>-10.61</td>\n",
       "      <td>-31.11</td>\n",
       "      <td>1.000000</td>\n",
       "      <td>4377.067241</td>\n",
       "      <td>1</td>\n",
       "      <td>17386250</td>\n",
       "      <td>0.0</td>\n",
       "      <td>0.0</td>\n",
       "    </tr>\n",
       "    <tr>\n",
       "      <th>1</th>\n",
       "      <td>ETH</td>\n",
       "      <td>0.0</td>\n",
       "      <td>3.114615e+09</td>\n",
       "      <td>103326368</td>\n",
       "      <td>ethereum</td>\n",
       "      <td>1542763178</td>\n",
       "      <td>13116822114</td>\n",
       "      <td>NaN</td>\n",
       "      <td>Ethereum</td>\n",
       "      <td>-2.58</td>\n",
       "      <td>-14.92</td>\n",
       "      <td>-38.54</td>\n",
       "      <td>0.029113</td>\n",
       "      <td>126.945545</td>\n",
       "      <td>3</td>\n",
       "      <td>103326368</td>\n",
       "      <td>0.0</td>\n",
       "      <td>0.0</td>\n",
       "    </tr>\n",
       "  </tbody>\n",
       "</table>\n",
       "</div>"
      ],
      "text/plain": [
       "  symbol  amount  24h_volume_usd  available_supply        id  last_updated  \\\n",
       "0    BTC     0.0    8.330692e+09          17386250   bitcoin    1542763152   \n",
       "1    ETH     0.0    3.114615e+09         103326368  ethereum    1542763178   \n",
       "\n",
       "   market_cap_usd  max_supply      name  percent_change_1h  \\\n",
       "0     76100785323  21000000.0   Bitcoin              -1.44   \n",
       "1     13116822114         NaN  Ethereum              -2.58   \n",
       "\n",
       "   percent_change_24h  percent_change_7d  price_btc    price_usd  rank  \\\n",
       "0              -10.61             -31.11   1.000000  4377.067241     1   \n",
       "1              -14.92             -38.54   0.029113   126.945545     3   \n",
       "\n",
       "   total_supply  value_usd  coinshare  \n",
       "0      17386250        0.0        0.0  \n",
       "1     103326368        0.0        0.0  "
      ]
     },
     "execution_count": 10,
     "metadata": {},
     "output_type": "execute_result"
    }
   ],
   "source": [
    "# merge API and boomfolio datasets; sort by current value\n",
    "merged_data = boomfolio.merge(market_data, how='left')\n",
    "merged_data['value_usd'] = merged_data.amount * merged_data.price_usd\n",
    "merged_data['coinshare'] = merged_data.amount / merged_data.available_supply\n",
    "merged_data = merged_data.sort_values('value_usd', ascending=False)\n",
    "merged_data.head(len(merged_data))"
   ]
  },
  {
   "cell_type": "markdown",
   "metadata": {},
   "source": []
  },
  {
   "cell_type": "code",
   "execution_count": 11,
   "metadata": {},
   "outputs": [
    {
     "name": "stdout",
     "output_type": "stream",
     "text": [
      "CryptoBoomFolio is currently (2018-11-20 08:20 PM) worth 0.00 USD !\n"
     ]
    }
   ],
   "source": [
    "portfolio_value = 'CryptoBoomFolio is currently ({}) worth {:.2f} USD !'.format(now.strftime('%Y-%m-%d %I:%M %p'), merged_data.value_usd.sum())\n",
    "print(portfolio_value)"
   ]
  },
  {
   "cell_type": "code",
   "execution_count": 12,
   "metadata": {},
   "outputs": [
    {
     "data": {
      "text/plain": [
       "'file:///home/optimus/Documents/Dev/Cryptocurrency/boomFolio/temp-plot.html'"
      ]
     },
     "execution_count": 12,
     "metadata": {},
     "output_type": "execute_result"
    }
   ],
   "source": [
    "marker = dict(color='rgb(158,202,225)',\n",
    "              line=dict(color='rgb(8,48,107)', width=1.5))\n",
    "\n",
    "layout = go.Layout(title='CryptoBoomFolio Positions in USD',\n",
    "                   xaxis=dict(title='Cryptocurrency'),\n",
    "                   yaxis=dict(title='USD'))\n",
    "\n",
    "value_chart=go.Bar(x=merged_data.symbol, y=merged_data.value_usd, marker=marker)\n",
    "fig = go.Figure(data=[value_chart], layout=layout)\n",
    "py.plot(fig)"
   ]
  },
  {
   "cell_type": "code",
   "execution_count": 13,
   "metadata": {
    "scrolled": false
   },
   "outputs": [
    {
     "data": {
      "application/vnd.plotly.v1+json": {
       "data": [
        {
         "marker": {
          "color": "rgb(258,202,125)",
          "line": {
           "color": "rgb(8,48,107)",
           "width": 1.5
          }
         },
         "type": "bar",
         "x": [
          "BTC",
          "ETH"
         ],
         "y": [
          0,
          0
         ]
        }
       ],
       "layout": {
        "title": "Relative CryptoBoomFolio Position Size",
        "xaxis": {
         "title": "Cryptocurrency"
        },
        "yaxis": {
         "title": "Fraction of total Supply"
        }
       }
      },
      "text/html": [
       "<div id=\"f5c9ab5e-2754-44e4-a0d2-4d09f1db7487\" style=\"height: 525px; width: 100%;\" class=\"plotly-graph-div\"></div><script type=\"text/javascript\">require([\"plotly\"], function(Plotly) { window.PLOTLYENV=window.PLOTLYENV || {};window.PLOTLYENV.BASE_URL=\"https://plot.ly\";Plotly.newPlot(\"f5c9ab5e-2754-44e4-a0d2-4d09f1db7487\", [{\"type\": \"bar\", \"x\": [\"BTC\", \"ETH\"], \"y\": [0.0, 0.0], \"marker\": {\"color\": \"rgb(258,202,125)\", \"line\": {\"color\": \"rgb(8,48,107)\", \"width\": 1.5}}}], {\"title\": \"Relative CryptoBoomFolio Position Size\", \"xaxis\": {\"title\": \"Cryptocurrency\"}, \"yaxis\": {\"title\": \"Fraction of total Supply\"}}, {\"showLink\": true, \"linkText\": \"Export to plot.ly\"})});</script>"
      ],
      "text/vnd.plotly.v1+html": [
       "<div id=\"f5c9ab5e-2754-44e4-a0d2-4d09f1db7487\" style=\"height: 525px; width: 100%;\" class=\"plotly-graph-div\"></div><script type=\"text/javascript\">require([\"plotly\"], function(Plotly) { window.PLOTLYENV=window.PLOTLYENV || {};window.PLOTLYENV.BASE_URL=\"https://plot.ly\";Plotly.newPlot(\"f5c9ab5e-2754-44e4-a0d2-4d09f1db7487\", [{\"type\": \"bar\", \"x\": [\"BTC\", \"ETH\"], \"y\": [0.0, 0.0], \"marker\": {\"color\": \"rgb(258,202,125)\", \"line\": {\"color\": \"rgb(8,48,107)\", \"width\": 1.5}}}], {\"title\": \"Relative CryptoBoomFolio Position Size\", \"xaxis\": {\"title\": \"Cryptocurrency\"}, \"yaxis\": {\"title\": \"Fraction of total Supply\"}}, {\"showLink\": true, \"linkText\": \"Export to plot.ly\"})});</script>"
      ]
     },
     "metadata": {},
     "output_type": "display_data"
    }
   ],
   "source": [
    "marker = dict(color='rgb(258,202,125)', line=dict(color='rgb(8,48,107)', width=1.5,))\n",
    "\n",
    "layout = go.Layout(title='Relative CryptoBoomFolio Position Size',\n",
    "                   xaxis=dict(title='Cryptocurrency'),\n",
    "                   yaxis=dict(title='Fraction of total Supply'))\n",
    "\n",
    "share_chart=go.Bar(x=merged_data.symbol, y=merged_data.coinshare, marker=marker)\n",
    "fig = go.Figure(data=[share_chart], layout=layout)\n",
    "py.iplot(fig)"
   ]
  },
  {
   "cell_type": "code",
   "execution_count": null,
   "metadata": {},
   "outputs": [],
   "source": []
  }
 ],
 "metadata": {
  "kernelspec": {
   "display_name": "Python 3",
   "language": "python",
   "name": "python3"
  },
  "language_info": {
   "codemirror_mode": {
    "name": "ipython",
    "version": 3
   },
   "file_extension": ".py",
   "mimetype": "text/x-python",
   "name": "python",
   "nbconvert_exporter": "python",
   "pygments_lexer": "ipython3",
   "version": "3.6.5"
  }
 },
 "nbformat": 4,
 "nbformat_minor": 2
}
